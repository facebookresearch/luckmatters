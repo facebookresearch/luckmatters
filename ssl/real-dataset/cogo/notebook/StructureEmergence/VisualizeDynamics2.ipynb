{
 "cells": [
  {
   "cell_type": "code",
   "execution_count": 1,
   "id": "b901b2cf",
   "metadata": {},
   "outputs": [],
   "source": [
    "import math\n",
    "import os\n",
    "import copy\n",
    "import time\n",
    "import warnings\n",
    "import torch\n",
    "\n",
    "from tempfile import TemporaryDirectory\n",
    "from typing import Tuple\n",
    "from typing import List\n",
    "from typing import Optional, Tuple\n",
    "from typing import Optional, Any, Union, Callable\n",
    "\n",
    "from torch import nn, Tensor\n",
    "from torch.nn import functional as F\n",
    "from torch.utils.data import dataset\n",
    "from transformers import PreTrainedModel\n",
    "from torch.nn.modules.linear import NonDynamicallyQuantizableLinear\n",
    "from torch.nn.init import constant_, xavier_normal_, xavier_uniform_\n",
    "from torch.nn.parameter import Parameter\n",
    "from torch.nn.modules.module import Module\n",
    "from torch.nn.modules.container import ModuleList\n",
    "from torch.nn.modules.dropout import Dropout\n",
    "from torch.nn.modules.linear import Linear\n",
    "from torch.nn.modules.normalization import LayerNorm\n",
    "from torchtext.datasets import WikiText2\n",
    "from torchtext.data.utils import get_tokenizer\n",
    "from torchtext.vocab import build_vocab_from_iterator\n",
    "\n",
    "from transformers import PretrainedConfig\n",
    "from transformers import OpenAIGPTConfig, AutoTokenizer, OpenAIGPTLMHeadModel \n",
    "\n",
    "from datasets import load_dataset\n",
    "import matplotlib.pyplot as plt\n",
    "import common_utils\n",
    "\n",
    "import torch.optim as optim"
   ]
  },
  {
   "cell_type": "code",
   "execution_count": 2,
   "id": "6eb236c8",
   "metadata": {},
   "outputs": [],
   "source": [
    "def check_hemi(A):\n",
    "    A_chop = A[1:,:]\n",
    "    avg = A_chop + A_chop.flip(dims=[0])\n",
    "    real_norm = avg.real.norm()\n",
    "    imag_norm = avg.imag.norm()\n",
    "    imag_ratio = imag_norm / math.sqrt(real_norm**2 + imag_norm**2)\n",
    "    print(imag_ratio)\n",
    "\n",
    "def keep_hemi(A):\n",
    "    A[1:,:] = (A[1:,:] + A[1:,:].flip(dims=[0]).conj()) / 2\n",
    "\n",
    "# check how to compute the terms\n",
    "def get_circular(v):\n",
    "    n = v.shape[0]\n",
    "    ret = torch.ones(n, n, dtype=v.dtype).to(v.device)\n",
    "    for i in range(n):\n",
    "        for j in range(n):\n",
    "            ret[i, j] = v[(i - j + n) % n]\n",
    "\n",
    "    return ret\n",
    "\n",
    "def circular_conv(*args):\n",
    "    final = args[0]\n",
    "    for v in args[1:]:\n",
    "        final = get_circular(v) @ final\n",
    "    return final\n",
    "\n",
    "def complex_dot(v1, v2):\n",
    "    return (v1.conj() * v2).sum()\n",
    "\n",
    "def compute_approx_grad(A, B, C):\n",
    "    AA = A.conj().t() @ A\n",
    "    BB = B.conj().t() @ B\n",
    "    CC = C.conj().t() @ C\n",
    "\n",
    "    K = A.shape[1]\n",
    "    device = A.device\n",
    "    \n",
    "    dA = B.conj() * C - 2 * A @ (BB * CC)\n",
    "    dB = A.conj() * C - 2 * B @ (AA * CC) \n",
    "    dC = (A*B) - 2 * C @ (AA * BB)\n",
    "\n",
    "    return dA, dB, dC\n",
    "\n",
    "\n",
    "def compute_grad(A, B, C):\n",
    "    AA = A.conj().t() @ A\n",
    "    BB = B.conj().t() @ B\n",
    "    CC = C.conj().t() @ C\n",
    "\n",
    "    d = A.shape[0]\n",
    "    K = A.shape[1]\n",
    "    device = A.device\n",
    "    \n",
    "    # diagonal elements\n",
    "    anormsqr = AA.diag()\n",
    "    bnormsqr = BB.diag() \n",
    "\n",
    "    # First conv results\n",
    "    Aconvs = torch.zeros(d, K, K, dtype=torch.cfloat).to(device)\n",
    "    Bconvs = torch.zeros(d, K, K, dtype=torch.cfloat).to(device)\n",
    "    for jj in range(K):\n",
    "        curr_Aconv = circular_conv(A[:,jj], A[:,jj])\n",
    "        curr_Bconv = circular_conv(B[:,jj], B[:,jj])\n",
    "        for j in range(K):\n",
    "            Aconvs[:,j,jj] = circular_conv(A[:,j], curr_Aconv)\n",
    "            Bconvs[:,j,jj] = circular_conv(B[:,j], curr_Bconv)\n",
    "        \n",
    "    # construct convolutional results\n",
    "    Aconvs_term = torch.einsum(\"abc,cb->ab\", Aconvs, CC)\n",
    "    Bconvs_term = torch.einsum(\"abc,cb->ab\", Bconvs, CC)\n",
    "            \n",
    "    Aconvs_termC = torch.einsum(\"abc,ab->cb\", Aconvs.conj(), A) \n",
    "    Bconvs_termC = torch.einsum(\"abc,ab->cb\", Bconvs.conj(), B) \n",
    "    \n",
    "    dA = B.conj() * C - A @ (CC @ bnormsqr).diag() - 2 * A @ (BB * CC) - Aconvs_term\n",
    "    dB = A.conj() * C - B @ (CC @ anormsqr).diag() - 2 * B @ (AA * CC) - Bconvs_term\n",
    "    dC = (A*B) - C @ (torch.outer(anormsqr, bnormsqr) + torch.outer(bnormsqr, anormsqr) + 4 * AA * BB + Aconvs_termC + Bconvs_termC) / 2\n",
    "\n",
    "    return dA, dB, dC"
   ]
  },
  {
   "cell_type": "code",
   "execution_count": 30,
   "id": "864b0be6",
   "metadata": {},
   "outputs": [],
   "source": [
    "def find_optimal_delta(A, B, C, r=0.01, eps=0.001, nIter=100):\n",
    "    # Search local dA, dB, dC that lead to maximal deviation. \n",
    "\n",
    "    def get_perturb_like(M, r):\n",
    "        res = torch.randn_like(M)\n",
    "        return res / res.norm() * r\n",
    "\n",
    "    def add_perturb(M, eps, r):\n",
    "        res = torch.randn_like(M) \n",
    "        dM = M + res / res.norm() * eps\n",
    "        return dM / dM.norm() * r\n",
    "\n",
    "    dA = get_perturb_like(A, r)\n",
    "    dB = get_perturb_like(B, r)\n",
    "    dC = get_perturb_like(C, r)\n",
    "\n",
    "    for t in range(nIter):\n",
    "        # Locally perturbation\n",
    "        best_score = -10000.0\n",
    "        best_perturb = []\n",
    "        for k in range(100):\n",
    "            dA_perturb = add_perturb(dA, eps, r)\n",
    "            dB_perturb = add_perturb(dB, eps, r)\n",
    "            dC_perturb = add_perturb(dC, eps, r)\n",
    "\n",
    "            dA2, dB2, dC2 = compute_approx_grad(A + dA_perturb, B + dB_perturb, C + dC_perturb)\n",
    "            # compute score\n",
    "            score = (dA_perturb.conj() * dA2).sum() + (dB_perturb.conj() * dB2).sum() + (dC_perturb.conj() * dC2).sum() \n",
    "            if score.real.item() > best_score:\n",
    "                best_score = score.real.item()\n",
    "                best_perturb = [dA_perturb, dB_perturb, dC_perturb]\n",
    "\n",
    "        # Then we update\n",
    "        print(f\"iter{t}: best_score = {best_score}\")\n",
    "        \n",
    "        if best_score > 0:\n",
    "            dA, dB, dC = best_perturb\n",
    "\n",
    "    return dA, dB, dC"
   ]
  },
  {
   "cell_type": "code",
   "execution_count": 4,
   "id": "ff7ee524",
   "metadata": {},
   "outputs": [],
   "source": [
    "def perfect_memorization_init(d, use_cuda=False, remove_e0=True, noise=0.001):\n",
    "    K = d * d\n",
    "    A = torch.zeros(d, K, dtype=torch.cfloat)\n",
    "    B = torch.zeros(d, K, dtype=torch.cfloat)\n",
    "    C = torch.zeros(d, K, dtype=torch.cfloat)\n",
    "\n",
    "    if use_cuda:\n",
    "        A = A.cuda()\n",
    "        B = B.cuda()\n",
    "        C = C.cuda()\n",
    "\n",
    "    device = A.device\n",
    "\n",
    "    v = torch.ones(d, dtype=torch.cfloat).to(device)\n",
    "    # unit \n",
    "    for i in range(d):\n",
    "        v[i].real = math.cos(2 * math.pi * i / d)\n",
    "        v[i].imag = math.sin(2 * math.pi * i / d)\n",
    "\n",
    "    # construct \n",
    "    cnt = 0\n",
    "    for i in range(d):\n",
    "        for j in range(d):\n",
    "            A[:,cnt] = v[:] ** i\n",
    "            B[:,cnt] = v[:] ** j\n",
    "            C[:,cnt] = v[:] ** ((i + j) % d)\n",
    "            cnt += 1\n",
    "            \n",
    "    A = A / math.sqrt(d)\n",
    "    B = B / math.sqrt(d)\n",
    "    C = C / 2 / d\n",
    "\n",
    "    if noise is not None:\n",
    "\n",
    "        # adding some noise\n",
    "        A = A + torch.randn(d, K, dtype=torch.cfloat).to(device) * noise\n",
    "        B = B + torch.randn(d, K, dtype=torch.cfloat).to(device) * noise\n",
    "        C = C + torch.randn(d, K, dtype=torch.cfloat).to(device) * noise\n",
    "\n",
    "        keep_hemi(A)\n",
    "        keep_hemi(B)\n",
    "        keep_hemi(C)\n",
    "\n",
    "    # Getting rid of e_0\n",
    "    if remove_e0:\n",
    "        A[0,:] = 0\n",
    "        B[0,:] = 0\n",
    "        C[0,:] = 0\n",
    "\n",
    "    return A, B, C"
   ]
  },
  {
   "cell_type": "code",
   "execution_count": 6,
   "id": "d3daf9cd",
   "metadata": {},
   "outputs": [],
   "source": [
    "d = 7\n",
    "A, B, C = perfect_memorization_init(d, use_cuda=False, remove_e0=True, noise=None)"
   ]
  },
  {
   "cell_type": "code",
   "execution_count": 33,
   "id": "30fe5fc9",
   "metadata": {},
   "outputs": [
    {
     "name": "stdout",
     "output_type": "stream",
     "text": [
      "iter0: best_score = -0.014558250084519386\n",
      "iter1: best_score = -0.014387845061719418\n",
      "iter2: best_score = -0.013956966809928417\n",
      "iter3: best_score = -0.014497761614620686\n",
      "iter4: best_score = -0.01420658640563488\n",
      "iter5: best_score = -0.014479801058769226\n",
      "iter6: best_score = -0.014680080115795135\n",
      "iter7: best_score = -0.014846810139715672\n",
      "iter8: best_score = -0.014713747426867485\n",
      "iter9: best_score = -0.014742255210876465\n"
     ]
    }
   ],
   "source": [
    "dA, dB, dC = find_optimal_delta(A, B, C, r=0.1, eps=0.1, nIter=10)"
   ]
  },
  {
   "cell_type": "code",
   "execution_count": null,
   "id": "2bf29435",
   "metadata": {},
   "outputs": [],
   "source": []
  },
  {
   "cell_type": "code",
   "execution_count": 19,
   "id": "af815739",
   "metadata": {},
   "outputs": [
    {
     "data": {
      "image/png": "[encoded data removed]",
      "text/plain": [
       "<Figure size 2000x3000 with 2 Axes>"
      ]
     },
     "metadata": {},
     "output_type": "display_data"
    },
    {
     "data": {
      "image/png": "[encoded data removed]",
      "text/plain": [
       "<Figure size 2000x3000 with 2 Axes>"
      ]
     },
     "metadata": {},
     "output_type": "display_data"
    },
    {
     "data": {
      "image/png": "[encoded data removed]",
      "text/plain": [
       "<Figure size 2000x3000 with 2 Axes>"
      ]
     },
     "metadata": {},
     "output_type": "display_data"
    }
   ],
   "source": [
    "def plot_complex(M, title):\n",
    "    plt.subplot(1, 2, 1)\n",
    "    plt.imshow(M.real)\n",
    "    plt.subplot(1, 2, 2)\n",
    "    plt.imshow(M.imag)\n",
    "    plt.title(title)\n",
    "    plt.show()\n",
    "    \n",
    "\n",
    "plt.figure(figsize=(20, 30))\n",
    "plot_complex(dA, \"dA\")\n",
    "plt.figure(figsize=(20, 30))\n",
    "plot_complex(dB, \"dB\")\n",
    "plt.figure(figsize=(20, 30))\n",
    "plot_complex(dC, \"dC\")"
   ]
  },
  {
   "cell_type": "code",
   "execution_count": 36,
   "id": "d4e3973f",
   "metadata": {},
   "outputs": [],
   "source": [
    "# Check \n",
    "K = A.shape[1]\n",
    "device = A.device\n",
    "\n",
    "Aconvs = torch.zeros(d, K, K, dtype=torch.cfloat).to(device)\n",
    "Bconvs = torch.zeros(d, K, K, dtype=torch.cfloat).to(device)\n",
    "for jj in range(K):\n",
    "    curr_Aconv = circular_conv(A[:,jj], A[:,jj])\n",
    "    curr_Bconv = circular_conv(B[:,jj], B[:,jj])\n",
    "    for j in range(K):\n",
    "        Aconvs[:,j,jj] = circular_conv(A[:,j], curr_Aconv)\n",
    "        Bconvs[:,j,jj] = circular_conv(B[:,j], curr_Bconv)"
   ]
  },
  {
   "cell_type": "code",
   "execution_count": 74,
   "id": "0a492c1b",
   "metadata": {},
   "outputs": [
    {
     "data": {
      "text/plain": [
       "<matplotlib.image.AxesImage at 0x7f4760039d60>"
      ]
     },
     "execution_count": 74,
     "metadata": {},
     "output_type": "execute_result"
    },
    {
     "data": {
      "image/png": "[encoded data removed]",
      "text/plain": [
       "<Figure size 640x480 with 1 Axes>"
      ]
     },
     "metadata": {},
     "output_type": "display_data"
    }
   ],
   "source": [
    "plt.imshow(Aconvs[:,:,7].real)"
   ]
  },
  {
   "cell_type": "code",
   "execution_count": 40,
   "id": "69905c22",
   "metadata": {},
   "outputs": [
    {
     "data": {
      "text/plain": [
       "tensor([[ 1.6198,  1.6198,  1.6198,  1.6198,  1.6198,  1.6198,  1.6198, -0.2700,\n",
       "         -0.2700, -0.2700, -0.2700, -0.2700, -0.2700, -0.2700, -0.2700, -0.2700,\n",
       "         -0.2700, -0.2700, -0.2700, -0.2700, -0.2700, -0.2700, -0.2700, -0.2700,\n",
       "         -0.2700, -0.2700, -0.2700, -0.2700, -0.2700, -0.2700, -0.2700, -0.2700,\n",
       "         -0.2700, -0.2700, -0.2700, -0.2700, -0.2700, -0.2700, -0.2700, -0.2700,\n",
       "         -0.2700, -0.2700, -0.2700, -0.2700, -0.2700, -0.2700, -0.2700, -0.2700,\n",
       "         -0.2700],\n",
       "        [ 1.6738,  1.6738,  1.6738,  1.6738,  1.6738,  1.6738,  1.6738, -0.2363,\n",
       "         -0.2363, -0.2363, -0.2363, -0.2363, -0.2363, -0.2363, -0.2820, -0.2820,\n",
       "         -0.2820, -0.2820, -0.2820, -0.2820, -0.2820, -0.3186, -0.3186, -0.3186,\n",
       "         -0.3186, -0.3186, -0.3186, -0.3186, -0.3186, -0.3186, -0.3186, -0.3186,\n",
       "         -0.3186, -0.3186, -0.3186, -0.2820, -0.2820, -0.2820, -0.2820, -0.2820,\n",
       "         -0.2820, -0.2820, -0.2363, -0.2363, -0.2363, -0.2363, -0.2363, -0.2363,\n",
       "         -0.2363],\n",
       "        [ 1.6738,  1.6738,  1.6738,  1.6738,  1.6738,  1.6738,  1.6738, -0.2820,\n",
       "         -0.2820, -0.2820, -0.2820, -0.2820, -0.2820, -0.2820, -0.3186, -0.3186,\n",
       "         -0.3186, -0.3186, -0.3186, -0.3186, -0.3186, -0.2363, -0.2363, -0.2363,\n",
       "         -0.2363, -0.2363, -0.2363, -0.2363, -0.2363, -0.2363, -0.2363, -0.2363,\n",
       "         -0.2363, -0.2363, -0.2363, -0.3186, -0.3186, -0.3186, -0.3186, -0.3186,\n",
       "         -0.3186, -0.3186, -0.2820, -0.2820, -0.2820, -0.2820, -0.2820, -0.2820,\n",
       "         -0.2820],\n",
       "        [ 1.6738,  1.6738,  1.6738,  1.6738,  1.6738,  1.6738,  1.6738, -0.3186,\n",
       "         -0.3186, -0.3186, -0.3186, -0.3186, -0.3186, -0.3186, -0.2363, -0.2363,\n",
       "         -0.2363, -0.2363, -0.2363, -0.2363, -0.2363, -0.2820, -0.2820, -0.2820,\n",
       "         -0.2820, -0.2820, -0.2820, -0.2820, -0.2820, -0.2820, -0.2820, -0.2820,\n",
       "         -0.2820, -0.2820, -0.2820, -0.2363, -0.2363, -0.2363, -0.2363, -0.2363,\n",
       "         -0.2363, -0.2363, -0.3186, -0.3186, -0.3186, -0.3186, -0.3186, -0.3186,\n",
       "         -0.3186],\n",
       "        [ 1.6738,  1.6738,  1.6738,  1.6738,  1.6738,  1.6738,  1.6738, -0.3186,\n",
       "         -0.3186, -0.3186, -0.3186, -0.3186, -0.3186, -0.3186, -0.2363, -0.2363,\n",
       "         -0.2363, -0.2363, -0.2363, -0.2363, -0.2363, -0.2820, -0.2820, -0.2820,\n",
       "         -0.2820, -0.2820, -0.2820, -0.2820, -0.2820, -0.2820, -0.2820, -0.2820,\n",
       "         -0.2820, -0.2820, -0.2820, -0.2363, -0.2363, -0.2363, -0.2363, -0.2363,\n",
       "         -0.2363, -0.2363, -0.3186, -0.3186, -0.3186, -0.3186, -0.3186, -0.3186,\n",
       "         -0.3186],\n",
       "        [ 1.6738,  1.6738,  1.6738,  1.6738,  1.6738,  1.6738,  1.6738, -0.2820,\n",
       "         -0.2820, -0.2820, -0.2820, -0.2820, -0.2820, -0.2820, -0.3186, -0.3186,\n",
       "         -0.3186, -0.3186, -0.3186, -0.3186, -0.3186, -0.2363, -0.2363, -0.2363,\n",
       "         -0.2363, -0.2363, -0.2363, -0.2363, -0.2363, -0.2363, -0.2363, -0.2363,\n",
       "         -0.2363, -0.2363, -0.2363, -0.3186, -0.3186, -0.3186, -0.3186, -0.3186,\n",
       "         -0.3186, -0.3186, -0.2820, -0.2820, -0.2820, -0.2820, -0.2820, -0.2820,\n",
       "         -0.2820],\n",
       "        [ 1.6738,  1.6738,  1.6738,  1.6738,  1.6738,  1.6738,  1.6738, -0.2363,\n",
       "         -0.2363, -0.2363, -0.2363, -0.2363, -0.2363, -0.2363, -0.2820, -0.2820,\n",
       "         -0.2820, -0.2820, -0.2820, -0.2820, -0.2820, -0.3186, -0.3186, -0.3186,\n",
       "         -0.3186, -0.3186, -0.3186, -0.3186, -0.3186, -0.3186, -0.3186, -0.3186,\n",
       "         -0.3186, -0.3186, -0.3186, -0.2820, -0.2820, -0.2820, -0.2820, -0.2820,\n",
       "         -0.2820, -0.2820, -0.2363, -0.2363, -0.2363, -0.2363, -0.2363, -0.2363,\n",
       "         -0.2363]])"
      ]
     },
     "execution_count": 40,
     "metadata": {},
     "output_type": "execute_result"
    }
   ],
   "source": [
    "Aconvs[:,:,0].real"
   ]
  },
  {
   "cell_type": "code",
   "execution_count": 52,
   "id": "4d11ff8e",
   "metadata": {},
   "outputs": [
    {
     "data": {
      "text/plain": [
       "tensor([ 5.0068e-06,  1.7881e-06, -1.0580e-06, -4.2915e-06, -4.4107e-06,\n",
       "        -1.2219e-06,  1.8477e-06])"
      ]
     },
     "execution_count": 52,
     "metadata": {},
     "output_type": "execute_result"
    }
   ],
   "source": [
    "Aconvs[:,:,10].real.sum(dim=1)"
   ]
  },
  {
   "cell_type": "code",
   "execution_count": 80,
   "id": "610839c5",
   "metadata": {},
   "outputs": [
    {
     "data": {
      "text/plain": [
       "tensor(0.)"
      ]
     },
     "execution_count": 80,
     "metadata": {},
     "output_type": "execute_result"
    }
   ],
   "source": [
    "(Aconvs[:,:,8] - Aconvs[:,:,7]).norm()"
   ]
  }
 ],
 "metadata": {
  "kernelspec": {
   "display_name": "transformer",
   "language": "python",
   "name": "transformer"
  },
  "language_info": {
   "codemirror_mode": {
    "name": "ipython",
    "version": 3
   },
   "file_extension": ".py",
   "mimetype": "text/x-python",
   "name": "python",
   "nbconvert_exporter": "python",
   "pygments_lexer": "ipython3",
   "version": "3.8.13"
  }
 },
 "nbformat": 4,
 "nbformat_minor": 5
}
